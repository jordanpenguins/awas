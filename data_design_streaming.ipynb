{
 "cells": [
  {
   "cell_type": "markdown",
   "id": "87824870",
   "metadata": {},
   "source": [
    "<h1> Data Design and Streaming</h1>"
   ]
  },
  {
   "cell_type": "code",
   "execution_count": 1,
   "id": "16e5e4bd",
   "metadata": {},
   "outputs": [],
   "source": [
    "import os\n",
    "os.environ['PYSPARK_SUBMIT_ARGS'] = '--packages org.apache.spark:spark-streaming-kafka-0-10_2.12:3.3.0,org.apache.spark:spark-sql-kafka-0-10_2.12:3.3.0 pyspark-shell'\n",
    "\n",
    "from pymongo import MongoClient\n",
    "from pyspark.sql import SparkSession\n",
    "from pyspark.sql.types import  StructType, StructField, StringType, LongType, DoubleType, IntegerType, ArrayType\n",
    "from pyspark.sql.functions import col, split, element_at, when,from_json\n",
    "import pandas as pd\n",
    "from datetime import datetime\n",
    "\n",
    "\n",
    "hostip = \"192.168.0.102\" # CHANGE TO YOUR IP ADDRESS HERE"
   ]
  },
  {
   "cell_type": "markdown",
   "id": "554791ca",
   "metadata": {},
   "source": [
    "<h2>Database setup</h2>"
   ]
  },
  {
   "cell_type": "code",
   "execution_count": null,
   "id": "b2cb30d8",
   "metadata": {},
   "outputs": [],
   "source": [
    "\n",
    "class DBClient:\n",
    "    def __init__(self):\n",
    "        self.mongo_client = MongoClient(\n",
    "            host=f'{hostip}',\n",
    "            port=27017\n",
    "        )\n",
    "        \n",
    "        self.database = self.mongo_client['fit3182_a2_db']\n",
    "    \n",
    "    \n",
    "    def collection(self,collection_name):\n",
    "        return self.database[collection_name]\n",
    "    \n",
    "db_client = DBClient()\n",
    "        \n",
    "# insert camera, vehicle, and camera event historic into the database (assuming we are using purely referencing)\n",
    "def insert_data(file_name,collection_name):\n",
    "    file_df = pd.read_csv(file_name)\n",
    "    collection = db_client.collection(collection_name)\n",
    "    for index,row in file_df.iterrows():\n",
    "        collection.insert_one(row.to_dict())\n",
    "        \n",
    "            \n",
    "insert_data(\"camera.csv\",\"camera\")    \n",
    "insert_data(\"vehicle.csv\",\"vehicle\")\n",
    "insert_data(\"camera_event_historic.csv\",\"camera_event_historic\") # I think we need to process this data to a violations table\n",
    "\n",
    "\n",
    "    \n",
    "    "
   ]
  },
  {
   "cell_type": "code",
   "execution_count": null,
   "id": "025a1d96",
   "metadata": {},
   "outputs": [],
   "source": []
  },
  {
   "cell_type": "code",
   "execution_count": 2,
   "id": "829f56b6",
   "metadata": {},
   "outputs": [],
   "source": [
    "# Database Writer\n",
    "class DbWriter:\n",
    "    # called at the start of processing each partition in each output micro-batch\n",
    "    def open(self, partition_id, epoch_id):\n",
    "        from pymongo import MongoClient\n",
    "        self.mongo_client = MongoClient(host=hostip, port=27017)\n",
    "        self.db = self.mongo_client[\"fit3182_a2_db\"]\n",
    "        return True\n",
    "    \n",
    "    # called once per row of the result dataframe\n",
    "    # the current code DOES NOT handle duplicate processing\n",
    "    #   e.g., query fails and restarts just before current micro-batch was fully inserted\n",
    "    def process(self, row):\n",
    "        \n",
    "        # for every new batch\n",
    "        row_dict = row.asDict()\n",
    "        \n",
    "        # instantaneous speed violation\n",
    "        if row_dict[\"speed_reading\"] > self.db[\"camera\"].find_one({\"camera_id\" : row_dict[\"camera_id\"]})[\"speed_limit\"]:\n",
    "            print(\"instantaneous\")\n",
    "            self.db[\"violations\"].insert_one({\n",
    "                    \"car_plate\" : row_dict[\"car_plate\"],\n",
    "                    \"camera_id_start\" : row_dict[\"camera_id\"],\n",
    "                    \"camera_id_end\" : row_dict[\"camera_id\"],\n",
    "                    \"timestamp_start\" : row_dict[\"timestamp\"],\n",
    "                    \"timestamp_end\" : row_dict[\"timestamp\"],\n",
    "                    \"speed_reading\": row_dict[\"speed_reading\"],\n",
    "                    \"violation_type\": \"instantaneous\"\n",
    "                })\n",
    "            \n",
    "            \n",
    "    \n",
    "        existing = self.db[\"temporary\"].find_one({\"car_plate\": row_dict[\"car_plate\"]})\n",
    "        print(\"hello\")\n",
    "        \n",
    "        # check if the number plate exist in the temporary collection (let's call it \"temporary\")\n",
    "        # average speed violation\n",
    "        if existing:\n",
    "            \n",
    "            start_camera_id = existing[\"camera_id\"]\n",
    "            end_camera_id = row_dict[\"camera_id\"]\n",
    "            \n",
    "            # get the distance\n",
    "            start_pos = self.db[\"camera\"].find_one({\"camera_id\" : existing[\"camera_id\"]})[\"position\"]\n",
    "            end_pos = self.db[\"camera\"].find_one({\"camera_id\": row_dict[\"camera_id\"]})[\"position\"]\n",
    "            distance = abs(end_pos - start_pos)\n",
    "            \n",
    "            # get the time\n",
    "            start_time = existing[\"timestamp\"]\n",
    "            end_time = row_dict[\"timestamp\"]\n",
    "\n",
    "            time_object_start = datetime.fromisoformat(start_time)\n",
    "            time_object_end = datetime.fromisoformat(end_time)\n",
    "            \n",
    "            # handle late arrivals\n",
    "            if time_object_start > time_object_end:\n",
    "                time_object_start, time_object_end = time_object_end, time_object_start\n",
    "                start_camera_id, end_camera_id = end_camera_id, start_camera_id\n",
    "\n",
    "            time_difference = (time_object_end - time_object_start).total_seconds() / 3600\n",
    "            \n",
    "            if time_difference <= 0:\n",
    "                print(\"Invalid time difference\")\n",
    "                print(row_dict[\"car_plate\"])\n",
    "                print(\"Between camera\", existing[\"camera_id\"],\"and \",row_dict[\"camera_id\"])\n",
    "                return\n",
    "                \n",
    "            \n",
    "            # calculate the average speed\n",
    "            avg_speed = distance / time_difference\n",
    "            print(row_dict[\"car_plate\"])\n",
    "            print(\"Between camera\", existing[\"camera_id\"],\"and \",row_dict[\"camera_id\"])\n",
    "            print(avg_speed)\n",
    "            \n",
    "            \n",
    "            # check if the average speed is larger than the speed limit of the camera (logic might need to change as i asumme 2 cameras currently have the same speed limit)\n",
    "            if avg_speed > self.db[\"camera\"].find_one({\"camera_id\" : existing[\"camera_id\"]})[\"speed_limit\"]: \n",
    "                # update the violations table\n",
    "                self.db[\"violations\"].insert_one({\n",
    "                    \"car_plate\" : row_dict[\"car_plate\"],\n",
    "                    \"camera_id_start\" : start_camera_id,\n",
    "                    \"camera_id_end\" : end_camera_id,\n",
    "                    \"timestamp_start\" : start_time,\n",
    "                    \"timestamp_end\" : end_time,\n",
    "                    \"speed_reading\": avg_speed,\n",
    "                    \"violation_type\": \"average\"\n",
    "                })\n",
    "                \n",
    "                # remove the record from the temporary table\n",
    "                \n",
    "            # Remove from temporary collection\n",
    "            self.db[\"temporary\"].delete_one({\"car_plate\": row_dict[\"car_plate\"]})\n",
    "            \n",
    "        \n",
    "        # if not then we insert the camera event inside the temporary collection\n",
    "        else:\n",
    "            self.db[\"temporary\"].insert_one(row_dict)\n",
    "            \n",
    "            # date inside the temporary will need to be process simulateniuslt as well\n",
    "        \n",
    "        \n",
    "        \n",
    "        # i want to die \n",
    "        \n",
    "    \n",
    "    # called once all rows have been processed (possibly with error)\n",
    "    def close(self, err):\n",
    "        self.mongo_client.close()\n",
    "    \n",
    "    \n",
    "    "
   ]
  },
  {
   "cell_type": "markdown",
   "id": "1cc6d5c0",
   "metadata": {},
   "source": [
    "<h2> Spark Streaming Setup</h2>"
   ]
  },
  {
   "cell_type": "code",
   "execution_count": 3,
   "id": "dd35a76e",
   "metadata": {},
   "outputs": [],
   "source": [
    "topic_1 = 'Camera_A'\n",
    "topic_2 = 'Camera_B'\n",
    "topic_3 = 'Camera_C'\n",
    "\n"
   ]
  },
  {
   "cell_type": "code",
   "execution_count": 4,
   "id": "c7e01887",
   "metadata": {},
   "outputs": [],
   "source": [
    "spark = (\n",
    "    SparkSession.builder\n",
    "    .master('local[*]')\n",
    "    .appName('[Demo] Spark Streaming from Kafka into MongoDB')\n",
    "    .getOrCreate()\n",
    ")\n"
   ]
  },
  {
   "cell_type": "code",
   "execution_count": 5,
   "id": "5fc6145c",
   "metadata": {},
   "outputs": [],
   "source": [
    "topic_stream_df = (\n",
    "    spark.readStream.format('kafka')\n",
    "    .option('kafka.bootstrap.servers', f'{hostip}:9092')\n",
    "    .option('subscribe', \"Camera_A,Camera_B\") # Subscribe to the topics here (work with camera A and B first)\n",
    "    .load()\n",
    ")"
   ]
  },
  {
   "cell_type": "code",
   "execution_count": 6,
   "id": "e4240632",
   "metadata": {},
   "outputs": [
    {
     "name": "stdout",
     "output_type": "stream",
     "text": [
      "root\n",
      " |-- key: binary (nullable = true)\n",
      " |-- value: binary (nullable = true)\n",
      " |-- topic: string (nullable = true)\n",
      " |-- partition: integer (nullable = true)\n",
      " |-- offset: long (nullable = true)\n",
      " |-- timestamp: timestamp (nullable = true)\n",
      " |-- timestampType: integer (nullable = true)\n",
      "\n"
     ]
    }
   ],
   "source": [
    "topic_stream_df.printSchema()"
   ]
  },
  {
   "cell_type": "markdown",
   "id": "6099f6b0",
   "metadata": {},
   "source": [
    "<h2> Decode the information received from the broker </h2>"
   ]
  },
  {
   "cell_type": "code",
   "execution_count": 7,
   "id": "b47ee023",
   "metadata": {},
   "outputs": [],
   "source": [
    "json_schema = StructType([\n",
    "    StructField(\"event_id\", StringType(), True),\n",
    "    StructField(\"batch_id\", IntegerType(), True),\n",
    "    StructField(\"car_plate\", StringType(), True),\n",
    "    StructField(\"camera_id\", IntegerType(), True),\n",
    "    StructField(\"timestamp\", StringType(), True),\n",
    "    StructField(\"speed_reading\", DoubleType(), True)\n",
    "])"
   ]
  },
  {
   "cell_type": "code",
   "execution_count": 8,
   "id": "6c90a08b",
   "metadata": {},
   "outputs": [],
   "source": [
    "output_stream_df = (\n",
    "    topic_stream_df\n",
    "    .select(\n",
    "        from_json(col(\"value\").cast(\"string\"), json_schema).alias(\"data\")\n",
    "    )\n",
    "    .select(\"data.*\") \n",
    ")"
   ]
  },
  {
   "cell_type": "code",
   "execution_count": 9,
   "id": "86c5a24b",
   "metadata": {},
   "outputs": [
    {
     "name": "stdout",
     "output_type": "stream",
     "text": [
      "root\n",
      " |-- event_id: string (nullable = true)\n",
      " |-- batch_id: integer (nullable = true)\n",
      " |-- car_plate: string (nullable = true)\n",
      " |-- camera_id: integer (nullable = true)\n",
      " |-- timestamp: string (nullable = true)\n",
      " |-- speed_reading: double (nullable = true)\n",
      "\n"
     ]
    }
   ],
   "source": [
    "output_stream_df.printSchema()"
   ]
  },
  {
   "cell_type": "code",
   "execution_count": null,
   "id": "2fb68a7b",
   "metadata": {},
   "outputs": [],
   "source": [
    "# DEBUGGING\n",
    "\n",
    "console_logger = (\n",
    "    output_stream_df\n",
    "    .writeStream\n",
    "    .outputMode('append')\n",
    "    .format('console')\n",
    ")\n",
    "\n",
    "db_writer = (\n",
    "    output_stream_df\n",
    "    .writeStream\n",
    "    .outputMode('append')\n",
    "    .foreach(DbWriter())\n",
    ")\n",
    "\n",
    "writer = db_writer # check if we can consume data being stored in the broker\n",
    "\n",
    "\n",
    "try:\n",
    "    query = writer.start()\n",
    "    query.awaitTermination()\n",
    "except KeyboardInterrupt:\n",
    "    print('Interrupted by CTRL-C. Stopped query')\n",
    "except StreamingQueryException as exc:\n",
    "    print(exc)\n",
    "finally:\n",
    "    query.stop()"
   ]
  },
  {
   "cell_type": "markdown",
   "id": "b14c172f",
   "metadata": {},
   "source": [
    "<h1> Utility Class to process our streaming data </h1>\n"
   ]
  },
  {
   "cell_type": "code",
   "execution_count": null,
   "id": "701a308d",
   "metadata": {},
   "outputs": [],
   "source": [
    "\n",
    "\n",
    "\n",
    "\n"
   ]
  }
 ],
 "metadata": {
  "kernelspec": {
   "display_name": "Python 3 (ipykernel)",
   "language": "python",
   "name": "python3"
  },
  "language_info": {
   "codemirror_mode": {
    "name": "ipython",
    "version": 3
   },
   "file_extension": ".py",
   "mimetype": "text/x-python",
   "name": "python",
   "nbconvert_exporter": "python",
   "pygments_lexer": "ipython3",
   "version": "3.8.16"
  }
 },
 "nbformat": 4,
 "nbformat_minor": 5
}
