{
 "cells": [
  {
   "cell_type": "markdown",
   "id": "87824870",
   "metadata": {},
   "source": [
    "<h1> Data Design and Streaming</h1>"
   ]
  },
  {
   "cell_type": "code",
   "execution_count": 1,
   "id": "16e5e4bd",
   "metadata": {},
   "outputs": [],
   "source": [
    "import os\n",
    "os.environ['PYSPARK_SUBMIT_ARGS'] = '--packages org.apache.spark:spark-streaming-kafka-0-10_2.12:3.3.0,org.apache.spark:spark-sql-kafka-0-10_2.12:3.3.0 pyspark-shell'\n",
    "\n",
    "from pymongo import MongoClient\n",
    "from pyspark.sql import SparkSession\n",
    "from pyspark.sql.types import  StructType, StructField, StringType, LongType, DoubleType, IntegerType, ArrayType\n",
    "from pyspark.sql.functions import col, split, element_at, when,from_json\n",
    "import pandas\n",
    "\n"
   ]
  },
  {
   "cell_type": "code",
   "execution_count": 2,
   "id": "dd35a76e",
   "metadata": {},
   "outputs": [],
   "source": [
    "topic_1 = 'Camera_A'\n",
    "topic_2 = 'Camera_B'\n",
    "topic_3 = 'Camera_C'\n",
    "hostip = \"192.168.0.102\" # change it to your IP\n"
   ]
  },
  {
   "cell_type": "code",
   "execution_count": 3,
   "id": "c7e01887",
   "metadata": {},
   "outputs": [],
   "source": [
    "spark = (\n",
    "    SparkSession.builder\n",
    "    .master('local[*]')\n",
    "    .appName('[Demo] Spark Streaming from Kafka into MongoDB')\n",
    "    .getOrCreate()\n",
    ")\n"
   ]
  },
  {
   "cell_type": "code",
   "execution_count": 4,
   "id": "5fc6145c",
   "metadata": {},
   "outputs": [],
   "source": [
    "topic_stream_df = (\n",
    "    spark.readStream.format('kafka')\n",
    "    .option('kafka.bootstrap.servers', f'{hostip}:9092')\n",
    "    .option('subscribe', \"Camera_A, Camera_B,Camera_C\") # Subscribe to the topics here\n",
    "    .load()\n",
    ")"
   ]
  },
  {
   "cell_type": "code",
   "execution_count": 5,
   "id": "e4240632",
   "metadata": {},
   "outputs": [
    {
     "name": "stdout",
     "output_type": "stream",
     "text": [
      "root\n",
      " |-- key: binary (nullable = true)\n",
      " |-- value: binary (nullable = true)\n",
      " |-- topic: string (nullable = true)\n",
      " |-- partition: integer (nullable = true)\n",
      " |-- offset: long (nullable = true)\n",
      " |-- timestamp: timestamp (nullable = true)\n",
      " |-- timestampType: integer (nullable = true)\n",
      "\n"
     ]
    }
   ],
   "source": [
    "topic_stream_df.printSchema()"
   ]
  },
  {
   "cell_type": "markdown",
   "id": "6099f6b0",
   "metadata": {},
   "source": [
    "<h2> Decode the information received from the broker </h2>"
   ]
  },
  {
   "cell_type": "code",
   "execution_count": 6,
   "id": "b47ee023",
   "metadata": {},
   "outputs": [],
   "source": [
    "json_schema = StructType([\n",
    "    StructField(\"event_id\", StringType(), True),\n",
    "    StructField(\"batch_id\", IntegerType(), True),\n",
    "    StructField(\"car_plate\", StringType(), True),\n",
    "    StructField(\"camera_id\", IntegerType(), True),\n",
    "    StructField(\"timestamp\", StringType(), True),\n",
    "    StructField(\"speed_reading\", DoubleType(), True)\n",
    "])"
   ]
  },
  {
   "cell_type": "code",
   "execution_count": 7,
   "id": "6c90a08b",
   "metadata": {},
   "outputs": [],
   "source": [
    "output_stream_df = (\n",
    "    topic_stream_df\n",
    "    .select(\n",
    "        from_json(col(\"value\").cast(\"string\"), json_schema).alias(\"data\")\n",
    "    )\n",
    "    .select(\"data.*\") \n",
    ")"
   ]
  },
  {
   "cell_type": "code",
   "execution_count": 8,
   "id": "86c5a24b",
   "metadata": {},
   "outputs": [
    {
     "name": "stdout",
     "output_type": "stream",
     "text": [
      "root\n",
      " |-- event_id: string (nullable = true)\n",
      " |-- batch_id: integer (nullable = true)\n",
      " |-- car_plate: string (nullable = true)\n",
      " |-- camera_id: integer (nullable = true)\n",
      " |-- timestamp: string (nullable = true)\n",
      " |-- speed_reading: double (nullable = true)\n",
      "\n"
     ]
    }
   ],
   "source": [
    "output_stream_df.printSchema()"
   ]
  },
  {
   "cell_type": "code",
   "execution_count": null,
   "id": "2fb68a7b",
   "metadata": {},
   "outputs": [],
   "source": [
    "console_logger = (\n",
    "    output_stream_df\n",
    "    .writeStream\n",
    "    .outputMode('append')\n",
    "    .format('console')\n",
    ")\n",
    "\n",
    "writer = console_logger\n",
    "\n",
    "\n",
    "try:\n",
    "    query = writer.start()\n",
    "    query.awaitTermination()\n",
    "except KeyboardInterrupt:\n",
    "    print('Interrupted by CTRL-C. Stopped query')\n",
    "except StreamingQueryException as exc:\n",
    "    print(exc)\n",
    "finally:\n",
    "    query.stop()"
   ]
  },
  {
   "cell_type": "code",
   "execution_count": null,
   "id": "f88865ee",
   "metadata": {},
   "outputs": [],
   "source": []
  }
 ],
 "metadata": {
  "kernelspec": {
   "display_name": "Python 3 (ipykernel)",
   "language": "python",
   "name": "python3"
  },
  "language_info": {
   "codemirror_mode": {
    "name": "ipython",
    "version": 3
   },
   "file_extension": ".py",
   "mimetype": "text/x-python",
   "name": "python",
   "nbconvert_exporter": "python",
   "pygments_lexer": "ipython3",
   "version": "3.8.16"
  }
 },
 "nbformat": 4,
 "nbformat_minor": 5
}
