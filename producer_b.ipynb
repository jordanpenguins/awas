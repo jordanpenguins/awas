{
 "cells": [
  {
   "cell_type": "markdown",
   "id": "87824870",
   "metadata": {},
   "source": [
    "<h1> Producer for Camera B </h1>"
   ]
  },
  {
   "cell_type": "code",
   "execution_count": null,
   "id": "16e5e4bd",
   "metadata": {
    "scrolled": false
   },
   "outputs": [],
   "source": [
    "# include all necessary imports\n",
    "from time import sleep\n",
    "import json\n",
    "from kafka3 import KafkaProducer\n",
    "import datetime as dt\n",
    "import pandas as pd\n",
    "\n",
    "\n",
    "hostip = \"192.168.0.116\"\n",
    "\n",
    "\n",
    "def publish_message(producer_instance, topic_name, file_name):\n",
    "    try:\n",
    "        df = pd.read_csv(file_name)\n",
    "        \n",
    "        grouped_df = df.groupby(\"batch_id\")\n",
    "        for batch_id, group in grouped_df:\n",
    "            for _,row in group.iterrows():\n",
    "                key_bytes = topic_name.encode('utf-8') \n",
    "                value_bytes = json.dumps(row.to_dict()).encode()\n",
    "                producer_instance.send(topic_name, key=key_bytes, value=value_bytes)\n",
    "                print(f'Message {batch_id + 1} published successfully: {row}')\n",
    "            sleep(5)\n",
    "                \n",
    "            \n",
    "    except Exception as ex:\n",
    "        print('Exception in publishing message.')\n",
    "        print(str(ex))\n",
    "        \n",
    "def connect_kafka_producer():\n",
    "    _producer = None\n",
    "    try:\n",
    "        _producer = KafkaProducer(bootstrap_servers=[f'{hostip}:9092'],\n",
    "                                  api_version=(0, 10))\n",
    "    except Exception as ex:\n",
    "        print('Exception while connecting Kafka.')\n",
    "        print(str(ex))\n",
    "    finally:\n",
    "        return _producer\n",
    "\n"
   ]
  },
  {
   "cell_type": "code",
   "execution_count": null,
   "id": "dd35a76e",
   "metadata": {},
   "outputs": [],
   "source": [
    "topic2 = 'Camera_B' \n",
    "producer_2 = connect_kafka_producer()\n",
    "publish_message(producer_2,topic2,\"camera_event_B.csv\" )"
   ]
  },
  {
   "cell_type": "code",
   "execution_count": null,
   "id": "d28e55d3",
   "metadata": {},
   "outputs": [],
   "source": []
  },
  {
   "cell_type": "code",
   "execution_count": null,
   "id": "25decc2c",
   "metadata": {},
   "outputs": [],
   "source": []
  },
  {
   "cell_type": "code",
   "execution_count": null,
   "id": "12ffd1c7",
   "metadata": {},
   "outputs": [],
   "source": []
  }
 ],
 "metadata": {
  "kernelspec": {
   "display_name": "Python 3 (ipykernel)",
   "language": "python",
   "name": "python3"
  },
  "language_info": {
   "codemirror_mode": {
    "name": "ipython",
    "version": 3
   },
   "file_extension": ".py",
   "mimetype": "text/x-python",
   "name": "python",
   "nbconvert_exporter": "python",
   "pygments_lexer": "ipython3",
   "version": "3.8.16"
  }
 },
 "nbformat": 4,
 "nbformat_minor": 5
}
