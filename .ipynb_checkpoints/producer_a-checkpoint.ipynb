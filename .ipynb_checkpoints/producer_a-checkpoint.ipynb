{
 "cells": [
  {
   "cell_type": "markdown",
   "id": "87824870",
   "metadata": {},
   "source": [
    "<h1> Producer for Camera Event A </h1>"
   ]
  },
  {
   "cell_type": "code",
   "execution_count": 7,
   "id": "16e5e4bd",
   "metadata": {},
   "outputs": [
    {
     "name": "stdout",
     "output_type": "stream",
     "text": [
      "6\n"
     ]
    }
   ],
   "source": [
    "# include all necessary imports\n",
    "from time import sleep\n",
    "from json import dumps\n",
    "from kafka3 import KafkaProducer\n",
    "import socket\n",
    "import datetime as dt\n",
    "import pandas as pd\n",
    "\n",
    "\n",
    "hostname = socket.gethostname()    \n",
    "IPAddr = socket.gethostbyname(hostname)    \n",
    "\n",
    "hostip = IPAddr\n",
    "\n",
    "\n",
    "def publish_message(producer_instance, topic_name, key, file_name):\n",
    "    try:\n",
    "        \n",
    "        if not os.path.isfile(csv_file_name):\n",
    "            print(f\"File '{csv_file_name}' not found. Please check the file path.\")\n",
    "            return\n",
    "\n",
    "        df = pd.read_csv(csv_file_name)\n",
    "        dict_columns = df.to_dict(orient='list')\n",
    "        \n",
    "        for row in dict_columns:\n",
    "            print(row)\n",
    "        \n",
    "        \n",
    "        \n",
    "        key = dict_columns[\"car_plate\"]\n",
    "\n",
    "        key_bytes = bytes(key, encoding='utf-8')\n",
    "        value_bytes = bytes(value, encoding='utf-8')\n",
    "        producer_instance.send(topic_name, key=key_bytes, value=value_bytes)\n",
    "        producer_instance.flush()\n",
    "        print('Message published successfully')\n",
    "    except Exception as ex:\n",
    "        print('Exception in publishing message.')\n",
    "        print(str(ex))\n",
    "        \n",
    "def connect_kafka_producer():\n",
    "    _producer = None\n",
    "    try:\n",
    "        _producer = KafkaProducer(bootstrap_servers=[f'{hostip}:9092'],\n",
    "                                  api_version=(0, 10))\n",
    "    except Exception as ex:\n",
    "        print('Exception while connecting Kafka.')\n",
    "        print(str(ex))\n",
    "    finally:\n",
    "        return _producer\n",
    "\n",
    "\n",
    "\n",
    "if __name__ == '__main__':\n",
    "   \n",
    "    topic = 'Camera_A'\n",
    "    parse_csv_file(\"camera_event_A.csv\")\n",
    "\n",
    "\n",
    "\n",
    "    # producer = connect_kafka_producer()\n",
    "    \n",
    "    # for e in range(100):\n",
    "    #     data = str(dt.datetime.now().strftime(\"%X\")) + ', ' + str(random.randrange(0,100))\n",
    "    #     publish_message(producer, topic, 'parsed', data)\n",
    "    #     sleep(1)\n",
    "\n",
    "\n",
    "\n",
    "\n"
   ]
  },
  {
   "cell_type": "code",
   "execution_count": null,
   "id": "dd35a76e",
   "metadata": {},
   "outputs": [],
   "source": [
    "\n",
    "# import all the documents from"
   ]
  }
 ],
 "metadata": {
  "kernelspec": {
   "display_name": "Python 3 (ipykernel)",
   "language": "python",
   "name": "python3"
  },
  "language_info": {
   "codemirror_mode": {
    "name": "ipython",
    "version": 3
   },
   "file_extension": ".py",
   "mimetype": "text/x-python",
   "name": "python",
   "nbconvert_exporter": "python",
   "pygments_lexer": "ipython3",
   "version": "3.8.16"
  }
 },
 "nbformat": 4,
 "nbformat_minor": 5
}
